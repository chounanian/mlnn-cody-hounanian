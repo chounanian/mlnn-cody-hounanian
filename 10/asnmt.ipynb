{
 "cells": [
  {
   "cell_type": "markdown",
   "metadata": {},
   "source": [
    "# Neural Networks image recognition - MultiLayer Perceptron\n",
    "Use both MLNN for the following problem.\n",
    "\n",
    "1. Add random noise (see below on `size parameter` on [`np.random.normal`](https://numpy.org/doc/stable/reference/random/generated/numpy.random.normal.html)) to the images in training and testing. **Make sure each image gets a different noise feature added to it. Inspect by printing out several images. Note - the `size` parameter should match the data. **\n",
    "2. Compare the `accuracy` of train and val after N epochs for MLNN with and without noise. \n",
    "3. Vary the amount of noise by changing the `scale` parameter in `np.random.normal` by a factor. Use `.1, .5, 1.0, 2.0, 4.0` for the `scale` and keep track of the `accuracy` for training and validation and plot these results."
   ]
  },
  {
   "cell_type": "markdown",
   "metadata": {},
   "source": [
    "# `np.random.normal`\n",
    "\n",
    "## Parameters\n",
    "\n",
    "### loc\n",
    "\n",
    "Mean (“centre”) of the distribution.\n",
    "\n",
    "### scale\n",
    "\n",
    "Standard deviation (spread or “width”) of the distribution. Must be non-negative.\n",
    "\n",
    "### size\n",
    "\n",
    "Output shape. If the given shape is, e.g., (m, n, k), then m * n * k samples are drawn. If size is None (default), a single value is returned if loc and scale are both scalars. Otherwise, np.broadcast(loc, scale).size samples are drawn."
   ]
  },
  {
   "cell_type": "markdown",
   "metadata": {},
   "source": [
    "# Neural Networks - Image Recognition "
   ]
  },
  {
   "cell_type": "code",
   "execution_count": 1,
   "metadata": {},
   "outputs": [
    {
     "name": "stderr",
     "output_type": "stream",
     "text": [
      "2022-11-03 20:41:07.224589: I tensorflow/core/platform/cpu_feature_guard.cc:193] This TensorFlow binary is optimized with oneAPI Deep Neural Network Library (oneDNN) to use the following CPU instructions in performance-critical operations:  AVX2 FMA\n",
      "To enable them in other operations, rebuild TensorFlow with the appropriate compiler flags.\n"
     ]
    }
   ],
   "source": [
    "import keras\n",
    "from keras.datasets import mnist\n",
    "from keras.models import Sequential\n",
    "from keras.optimizers import RMSprop\n",
    "from keras.layers import Dense, Dropout, Flatten\n",
    "from keras.layers import Conv2D, MaxPooling2D\n",
    "from keras import backend\n",
    "import numpy as np\n",
    "import pandas as pd\n",
    "import matplotlib.pyplot as plt\n",
    "%matplotlib inline"
   ]
  },
  {
   "cell_type": "markdown",
   "metadata": {},
   "source": [
    "## Multi Layer Neural Network\n",
    "Trains a simple deep NN on the MNIST dataset.\n",
    "Gets to 98.40% test accuracy after 20 epochs\n",
    "(there is *a lot* of margin for parameter tuning)."
   ]
  },
  {
   "cell_type": "code",
   "execution_count": 2,
   "metadata": {
    "scrolled": true
   },
   "outputs": [
    {
     "name": "stdout",
     "output_type": "stream",
     "text": [
      "60000 train samples\n",
      "10000 test samples\n"
     ]
    }
   ],
   "source": [
    "# the data, shuffled and split between train and test sets\n",
    "(x_train, y_train), (x_test, y_test) = mnist.load_data()\n",
    "\n",
    "x_train = x_train.reshape(60000, 784)\n",
    "x_test = x_test.reshape(10000, 784)\n",
    "x_train = x_train.astype('float32')\n",
    "x_test = x_test.astype('float32')\n",
    "x_train /= 255\n",
    "x_test /= 255\n",
    "np.random\n",
    "print(x_train.shape[0], 'train samples')\n",
    "print(x_test.shape[0], 'test samples')"
   ]
  },
  {
   "cell_type": "code",
   "execution_count": 3,
   "metadata": {
    "scrolled": true
   },
   "outputs": [
    {
     "name": "stdout",
     "output_type": "stream",
     "text": [
      "Model: \"sequential\"\n",
      "_________________________________________________________________\n",
      " Layer (type)                Output Shape              Param #   \n",
      "=================================================================\n",
      " dense (Dense)               (None, 512)               401920    \n",
      "                                                                 \n",
      " dropout (Dropout)           (None, 512)               0         \n",
      "                                                                 \n",
      " dense_1 (Dense)             (None, 512)               262656    \n",
      "                                                                 \n"
     ]
    },
    {
     "name": "stderr",
     "output_type": "stream",
     "text": [
      "2022-11-03 20:41:17.401689: I tensorflow/core/platform/cpu_feature_guard.cc:193] This TensorFlow binary is optimized with oneAPI Deep Neural Network Library (oneDNN) to use the following CPU instructions in performance-critical operations:  AVX2 FMA\n",
      "To enable them in other operations, rebuild TensorFlow with the appropriate compiler flags.\n"
     ]
    },
    {
     "name": "stdout",
     "output_type": "stream",
     "text": [
      " dropout_1 (Dropout)         (None, 512)               0         \n",
      "                                                                 \n",
      " dense_2 (Dense)             (None, 10)                5130      \n",
      "                                                                 \n",
      "=================================================================\n",
      "Total params: 669,706\n",
      "Trainable params: 669,706\n",
      "Non-trainable params: 0\n",
      "_________________________________________________________________\n",
      "Epoch 1/20\n",
      "469/469 [==============================] - 6s 10ms/step - loss: 0.2475 - accuracy: 0.9248 - val_loss: 0.1168 - val_accuracy: 0.9641\n",
      "Epoch 2/20\n",
      "469/469 [==============================] - 5s 11ms/step - loss: 0.1037 - accuracy: 0.9690 - val_loss: 0.0770 - val_accuracy: 0.9767\n",
      "Epoch 3/20\n",
      "469/469 [==============================] - 4s 9ms/step - loss: 0.0747 - accuracy: 0.9771 - val_loss: 0.0865 - val_accuracy: 0.9749\n",
      "Epoch 4/20\n",
      "469/469 [==============================] - 4s 9ms/step - loss: 0.0604 - accuracy: 0.9820 - val_loss: 0.0871 - val_accuracy: 0.9743\n",
      "Epoch 5/20\n",
      "469/469 [==============================] - 4s 9ms/step - loss: 0.0508 - accuracy: 0.9846 - val_loss: 0.0813 - val_accuracy: 0.9814\n",
      "Epoch 6/20\n",
      "469/469 [==============================] - 4s 9ms/step - loss: 0.0427 - accuracy: 0.9875 - val_loss: 0.0799 - val_accuracy: 0.9809\n",
      "Epoch 7/20\n",
      "469/469 [==============================] - 5s 10ms/step - loss: 0.0378 - accuracy: 0.9884 - val_loss: 0.0786 - val_accuracy: 0.9826\n",
      "Epoch 8/20\n",
      "469/469 [==============================] - 4s 9ms/step - loss: 0.0318 - accuracy: 0.9906 - val_loss: 0.1038 - val_accuracy: 0.9798\n",
      "Epoch 9/20\n",
      "469/469 [==============================] - 4s 9ms/step - loss: 0.0316 - accuracy: 0.9904 - val_loss: 0.1030 - val_accuracy: 0.9815\n",
      "Epoch 10/20\n",
      "469/469 [==============================] - 4s 9ms/step - loss: 0.0305 - accuracy: 0.9912 - val_loss: 0.0959 - val_accuracy: 0.9817\n",
      "Epoch 11/20\n",
      "469/469 [==============================] - 4s 9ms/step - loss: 0.0264 - accuracy: 0.9919 - val_loss: 0.0932 - val_accuracy: 0.9833\n",
      "Epoch 12/20\n",
      "469/469 [==============================] - 4s 9ms/step - loss: 0.0240 - accuracy: 0.9929 - val_loss: 0.0816 - val_accuracy: 0.9859\n",
      "Epoch 13/20\n",
      "469/469 [==============================] - 4s 9ms/step - loss: 0.0220 - accuracy: 0.9937 - val_loss: 0.0960 - val_accuracy: 0.9826\n",
      "Epoch 14/20\n",
      "469/469 [==============================] - 4s 9ms/step - loss: 0.0217 - accuracy: 0.9934 - val_loss: 0.0998 - val_accuracy: 0.9838\n",
      "Epoch 15/20\n",
      "469/469 [==============================] - 4s 9ms/step - loss: 0.0204 - accuracy: 0.9945 - val_loss: 0.1175 - val_accuracy: 0.9827\n",
      "Epoch 16/20\n",
      "469/469 [==============================] - 4s 9ms/step - loss: 0.0196 - accuracy: 0.9945 - val_loss: 0.1015 - val_accuracy: 0.9845\n",
      "Epoch 17/20\n",
      "469/469 [==============================] - 4s 9ms/step - loss: 0.0202 - accuracy: 0.9945 - val_loss: 0.1127 - val_accuracy: 0.9844\n",
      "Epoch 18/20\n",
      "469/469 [==============================] - 4s 9ms/step - loss: 0.0181 - accuracy: 0.9953 - val_loss: 0.1140 - val_accuracy: 0.9842\n",
      "Epoch 19/20\n",
      "469/469 [==============================] - 4s 9ms/step - loss: 0.0179 - accuracy: 0.9952 - val_loss: 0.1320 - val_accuracy: 0.9822\n",
      "Epoch 20/20\n",
      "469/469 [==============================] - 4s 9ms/step - loss: 0.0154 - accuracy: 0.9956 - val_loss: 0.1146 - val_accuracy: 0.9844\n",
      "Test loss: 0.11455176770687103\n",
      "Test accuracy: 0.9843999743461609\n"
     ]
    }
   ],
   "source": [
    "batch_size = 128\n",
    "num_classes = 10\n",
    "epochs = 20\n",
    "\n",
    "\n",
    "# convert class vectors to binary class matrices\n",
    "y_train = keras.utils.to_categorical(y_train, num_classes)\n",
    "y_test = keras.utils.to_categorical(y_test, num_classes)\n",
    "\n",
    "model = Sequential()\n",
    "model.add(Dense(512, activation='relu', input_shape=(784,)))\n",
    "model.add(Dropout(0.2))\n",
    "model.add(Dense(512, activation='relu'))\n",
    "model.add(Dropout(0.2))\n",
    "model.add(Dense(10, activation='softmax'))\n",
    "\n",
    "model.summary()\n",
    "\n",
    "model.compile(loss='categorical_crossentropy',\n",
    "              optimizer=RMSprop(),\n",
    "              metrics=['accuracy'])\n",
    "\n",
    "history = model.fit(x_train, y_train,\n",
    "                    batch_size=batch_size,\n",
    "                    epochs=epochs,\n",
    "                    verbose=1,\n",
    "                    validation_data=(x_test, y_test))\n",
    "score = model.evaluate(x_test, y_test, verbose=0)\n",
    "print('Test loss:', score[0])\n",
    "print('Test accuracy:', score[1])"
   ]
  },
  {
   "cell_type": "markdown",
   "metadata": {
    "collapsed": true
   },
   "source": [
    "## Comparing Original Data with Noisey Data"
   ]
  },
  {
   "cell_type": "code",
   "execution_count": 11,
   "metadata": {
    "scrolled": true
   },
   "outputs": [
    {
     "name": "stdout",
     "output_type": "stream",
     "text": [
      "60000 train samples\n",
      "10000 test samples\n"
     ]
    }
   ],
   "source": [
    "# the data, shuffled and split between train and test sets\n",
    "(x_train, y_train), (x_test, y_test) = mnist.load_data()\n",
    "\n",
    "x_train = x_train.reshape(60000, 784)\n",
    "x_test = x_test.reshape(10000, 784)\n",
    "x_train = x_train.astype('float32')\n",
    "x_test = x_test.astype('float32')\n",
    "x_train /= 255\n",
    "x_test /= 255\n",
    "\n",
    "# Adding Noise\n",
    "x_train = np.random.normal(x_train, scale = .5)\n",
    "x_test = np.random.normal(x_test, scale = .5)\n",
    "\n",
    "print(x_train.shape[0], 'train samples')\n",
    "print(x_test.shape[0], 'test samples')"
   ]
  },
  {
   "cell_type": "code",
   "execution_count": 5,
   "metadata": {
    "scrolled": true
   },
   "outputs": [
    {
     "name": "stdout",
     "output_type": "stream",
     "text": [
      "Model: \"sequential_1\"\n",
      "_________________________________________________________________\n",
      " Layer (type)                Output Shape              Param #   \n",
      "=================================================================\n",
      " dense_3 (Dense)             (None, 512)               401920    \n",
      "                                                                 \n",
      " dropout_2 (Dropout)         (None, 512)               0         \n",
      "                                                                 \n",
      " dense_4 (Dense)             (None, 512)               262656    \n",
      "                                                                 \n",
      " dropout_3 (Dropout)         (None, 512)               0         \n",
      "                                                                 \n",
      " dense_5 (Dense)             (None, 10)                5130      \n",
      "                                                                 \n",
      "=================================================================\n",
      "Total params: 669,706\n",
      "Trainable params: 669,706\n",
      "Non-trainable params: 0\n",
      "_________________________________________________________________\n",
      "Epoch 1/20\n",
      "469/469 [==============================] - 5s 9ms/step - loss: 0.5528 - accuracy: 0.8204 - val_loss: 0.3038 - val_accuracy: 0.9011\n",
      "Epoch 2/20\n",
      "469/469 [==============================] - 4s 8ms/step - loss: 0.2418 - accuracy: 0.9227 - val_loss: 0.2634 - val_accuracy: 0.9156\n",
      "Epoch 3/20\n",
      "469/469 [==============================] - 4s 8ms/step - loss: 0.1296 - accuracy: 0.9572 - val_loss: 0.2831 - val_accuracy: 0.9176\n",
      "Epoch 4/20\n",
      "469/469 [==============================] - 4s 9ms/step - loss: 0.0744 - accuracy: 0.9747 - val_loss: 0.3281 - val_accuracy: 0.9150\n",
      "Epoch 5/20\n",
      "469/469 [==============================] - 5s 10ms/step - loss: 0.0523 - accuracy: 0.9820 - val_loss: 0.3907 - val_accuracy: 0.9163\n",
      "Epoch 6/20\n",
      "469/469 [==============================] - 4s 9ms/step - loss: 0.0412 - accuracy: 0.9866 - val_loss: 0.4225 - val_accuracy: 0.9153\n",
      "Epoch 7/20\n",
      "469/469 [==============================] - 4s 9ms/step - loss: 0.0385 - accuracy: 0.9874 - val_loss: 0.4332 - val_accuracy: 0.9167\n",
      "Epoch 8/20\n",
      "469/469 [==============================] - 4s 9ms/step - loss: 0.0350 - accuracy: 0.9884 - val_loss: 0.4669 - val_accuracy: 0.9181\n",
      "Epoch 9/20\n",
      "469/469 [==============================] - 4s 9ms/step - loss: 0.0293 - accuracy: 0.9908 - val_loss: 0.4993 - val_accuracy: 0.9148\n",
      "Epoch 10/20\n",
      "469/469 [==============================] - 4s 9ms/step - loss: 0.0273 - accuracy: 0.9915 - val_loss: 0.5011 - val_accuracy: 0.9189\n",
      "Epoch 11/20\n",
      "469/469 [==============================] - 4s 9ms/step - loss: 0.0263 - accuracy: 0.9918 - val_loss: 0.5573 - val_accuracy: 0.9208\n",
      "Epoch 12/20\n",
      "469/469 [==============================] - 4s 9ms/step - loss: 0.0238 - accuracy: 0.9929 - val_loss: 0.5800 - val_accuracy: 0.9180\n",
      "Epoch 13/20\n",
      "469/469 [==============================] - 4s 9ms/step - loss: 0.0257 - accuracy: 0.9928 - val_loss: 0.5900 - val_accuracy: 0.9174\n",
      "Epoch 14/20\n",
      "469/469 [==============================] - 4s 9ms/step - loss: 0.0224 - accuracy: 0.9932 - val_loss: 0.5918 - val_accuracy: 0.9229\n",
      "Epoch 15/20\n",
      "469/469 [==============================] - 4s 9ms/step - loss: 0.0215 - accuracy: 0.9941 - val_loss: 0.6297 - val_accuracy: 0.9213\n",
      "Epoch 16/20\n",
      "469/469 [==============================] - 4s 9ms/step - loss: 0.0209 - accuracy: 0.9937 - val_loss: 0.6449 - val_accuracy: 0.9205\n",
      "Epoch 17/20\n",
      "469/469 [==============================] - 5s 11ms/step - loss: 0.0212 - accuracy: 0.9938 - val_loss: 0.6743 - val_accuracy: 0.9202\n",
      "Epoch 18/20\n",
      "469/469 [==============================] - 7s 15ms/step - loss: 0.0225 - accuracy: 0.9939 - val_loss: 0.6825 - val_accuracy: 0.9183\n",
      "Epoch 19/20\n",
      "469/469 [==============================] - 7s 16ms/step - loss: 0.0205 - accuracy: 0.9941 - val_loss: 0.7083 - val_accuracy: 0.9179\n",
      "Epoch 20/20\n",
      "469/469 [==============================] - 6s 13ms/step - loss: 0.0191 - accuracy: 0.9945 - val_loss: 0.7100 - val_accuracy: 0.9182\n",
      "Test loss: 0.7099926471710205\n",
      "Test accuracy: 0.9182000160217285\n"
     ]
    }
   ],
   "source": [
    "batch_size = 128\n",
    "num_classes = 10\n",
    "epochs = 20\n",
    "\n",
    "# convert class vectors to binary class matrices\n",
    "y_train = keras.utils.to_categorical(y_train, num_classes)\n",
    "y_test = keras.utils.to_categorical(y_test, num_classes)\n",
    "\n",
    "model = Sequential()\n",
    "model.add(Dense(512, activation='relu', input_shape=(784,)))\n",
    "model.add(Dropout(0.2))\n",
    "model.add(Dense(512, activation='relu'))\n",
    "model.add(Dropout(0.2))\n",
    "model.add(Dense(10, activation='softmax'))\n",
    "\n",
    "model.summary()\n",
    "\n",
    "model.compile(loss='categorical_crossentropy',\n",
    "              optimizer=RMSprop(),\n",
    "              metrics=['accuracy'])\n",
    "\n",
    "history_noise = model.fit(x_train, y_train,\n",
    "                    batch_size=batch_size,\n",
    "                    epochs=epochs,\n",
    "                    verbose=1,\n",
    "                    validation_data=(x_test, y_test))\n",
    "score = model.evaluate(x_test, y_test, verbose=0)\n",
    "print('Test loss:', score[0])\n",
    "print('Test accuracy:', score[1])"
   ]
  },
  {
   "cell_type": "code",
   "execution_count": 6,
   "metadata": {
    "scrolled": true
   },
   "outputs": [
    {
     "data": {
      "text/plain": [
       "Text(0.5, 1.0, 'Testing Set Accuracy Values vs Epochs by Dataset')"
      ]
     },
     "execution_count": 6,
     "metadata": {},
     "output_type": "execute_result"
    },
    {
     "data": {
      "image/png": "[encoded data removed]",
      "text/plain": [
       "<Figure size 432x288 with 1 Axes>"
      ]
     },
     "metadata": {
      "needs_background": "light"
     },
     "output_type": "display_data"
    },
    {
     "data": {
      "image/png": "[encoded data removed]",
      "text/plain": [
       "<Figure size 432x288 with 1 Axes>"
      ]
     },
     "metadata": {
      "needs_background": "light"
     },
     "output_type": "display_data"
    }
   ],
   "source": [
    "epoch_num = list(range(1, len(history.history[\"accuracy\"])+1))\n",
    "\n",
    "# plot scores\n",
    "plot = plt.figure()\n",
    "\n",
    "plt.plot(epoch_num, history.history[\"accuracy\"], label = \"Original Data\")\n",
    "plt.plot(epoch_num, history_noise.history[\"accuracy\"], label = \"Noisey Data\")\n",
    "\n",
    "plt.legend(title = \"Data Set\", loc = 'upper right')\n",
    "plt.xlabel(\"Epochs\")\n",
    "plt.ylabel(\"Accuracy\")\n",
    "plt.title(\"Training Set Accuracy Values vs Epochs by Dataset\")\n",
    "\n",
    "plot_test = plt.figure()\n",
    "\n",
    "plt.plot(epoch_num, history.history[\"val_accuracy\"], label = \"Original Data\")\n",
    "plt.plot(epoch_num, history_noise.history[\"val_accuracy\"], label = \"Noisey Data\")\n",
    "\n",
    "plt.legend(title = \"Data Set\", loc = 'upper right')\n",
    "plt.xlabel(\"Epochs\")\n",
    "plt.ylabel(\"Accuracy\")\n",
    "plt.title(\"Testing Set Accuracy Values vs Epochs by Dataset\")\n",
    "\n"
   ]
  },
  {
   "cell_type": "markdown",
   "metadata": {
    "collapsed": true
   },
   "source": [
    "## Comparing Different Noise Scale Values "
   ]
  },
  {
   "cell_type": "code",
   "execution_count": 7,
   "metadata": {
    "scrolled": false
   },
   "outputs": [
    {
     "name": "stdout",
     "output_type": "stream",
     "text": [
      "Model: \"sequential_2\"\n",
      "_________________________________________________________________\n",
      " Layer (type)                Output Shape              Param #   \n",
      "=================================================================\n",
      " dense_6 (Dense)             (None, 512)               401920    \n",
      "                                                                 \n",
      " dropout_4 (Dropout)         (None, 512)               0         \n",
      "                                                                 \n",
      " dense_7 (Dense)             (None, 512)               262656    \n",
      "                                                                 \n",
      " dropout_5 (Dropout)         (None, 512)               0         \n",
      "                                                                 \n",
      " dense_8 (Dense)             (None, 10)                5130      \n",
      "                                                                 \n",
      "=================================================================\n",
      "Total params: 669,706\n",
      "Trainable params: 669,706\n",
      "Non-trainable params: 0\n",
      "_________________________________________________________________\n",
      "Epoch 1/20\n",
      "469/469 [==============================] - 5s 9ms/step - loss: 0.2609 - accuracy: 0.9188 - val_loss: 0.1158 - val_accuracy: 0.9630\n",
      "Epoch 2/20\n",
      "469/469 [==============================] - 4s 9ms/step - loss: 0.1011 - accuracy: 0.9686 - val_loss: 0.1063 - val_accuracy: 0.9689\n",
      "Epoch 3/20\n",
      "469/469 [==============================] - 4s 8ms/step - loss: 0.0632 - accuracy: 0.9804 - val_loss: 0.1026 - val_accuracy: 0.9725\n",
      "Epoch 4/20\n",
      "469/469 [==============================] - 4s 8ms/step - loss: 0.0437 - accuracy: 0.9861 - val_loss: 0.1193 - val_accuracy: 0.9689\n",
      "Epoch 5/20\n",
      "469/469 [==============================] - 4s 8ms/step - loss: 0.0321 - accuracy: 0.9895 - val_loss: 0.1152 - val_accuracy: 0.9700\n",
      "Epoch 6/20\n",
      "469/469 [==============================] - 4s 8ms/step - loss: 0.0253 - accuracy: 0.9917 - val_loss: 0.1105 - val_accuracy: 0.9760\n",
      "Epoch 7/20\n",
      "469/469 [==============================] - 5s 10ms/step - loss: 0.0197 - accuracy: 0.9933 - val_loss: 0.1288 - val_accuracy: 0.9746\n",
      "Epoch 8/20\n",
      "469/469 [==============================] - 5s 10ms/step - loss: 0.0181 - accuracy: 0.9944 - val_loss: 0.1424 - val_accuracy: 0.9758\n",
      "Epoch 9/20\n",
      "469/469 [==============================] - 4s 10ms/step - loss: 0.0173 - accuracy: 0.9948 - val_loss: 0.1279 - val_accuracy: 0.9787\n",
      "Epoch 10/20\n",
      "469/469 [==============================] - 5s 10ms/step - loss: 0.0157 - accuracy: 0.9952 - val_loss: 0.1558 - val_accuracy: 0.9765\n",
      "Epoch 11/20\n",
      "469/469 [==============================] - 5s 10ms/step - loss: 0.0129 - accuracy: 0.9958 - val_loss: 0.1676 - val_accuracy: 0.9748\n",
      "Epoch 12/20\n",
      "469/469 [==============================] - 6s 14ms/step - loss: 0.0134 - accuracy: 0.9960 - val_loss: 0.1600 - val_accuracy: 0.9759\n",
      "Epoch 13/20\n",
      "469/469 [==============================] - 6s 13ms/step - loss: 0.0104 - accuracy: 0.9966 - val_loss: 0.1698 - val_accuracy: 0.9769\n",
      "Epoch 14/20\n",
      "469/469 [==============================] - 6s 12ms/step - loss: 0.0111 - accuracy: 0.9968 - val_loss: 0.1836 - val_accuracy: 0.9778\n",
      "Epoch 15/20\n",
      "469/469 [==============================] - 5s 11ms/step - loss: 0.0123 - accuracy: 0.9964 - val_loss: 0.1822 - val_accuracy: 0.9769\n",
      "Epoch 16/20\n",
      "469/469 [==============================] - 5s 11ms/step - loss: 0.0119 - accuracy: 0.9969 - val_loss: 0.1791 - val_accuracy: 0.9778\n",
      "Epoch 17/20\n",
      "469/469 [==============================] - 4s 9ms/step - loss: 0.0105 - accuracy: 0.9974 - val_loss: 0.1713 - val_accuracy: 0.9789\n",
      "Epoch 18/20\n",
      "469/469 [==============================] - 4s 8ms/step - loss: 0.0087 - accuracy: 0.9975 - val_loss: 0.2246 - val_accuracy: 0.9746\n",
      "Epoch 19/20\n",
      "469/469 [==============================] - 4s 8ms/step - loss: 0.0093 - accuracy: 0.9974 - val_loss: 0.1902 - val_accuracy: 0.9784\n",
      "Epoch 20/20\n",
      "469/469 [==============================] - 5s 10ms/step - loss: 0.0074 - accuracy: 0.9978 - val_loss: 0.2077 - val_accuracy: 0.9775\n",
      "Model: \"sequential_3\"\n",
      "_________________________________________________________________\n",
      " Layer (type)                Output Shape              Param #   \n",
      "=================================================================\n",
      " dense_9 (Dense)             (None, 512)               401920    \n",
      "                                                                 \n",
      " dropout_6 (Dropout)         (None, 512)               0         \n",
      "                                                                 \n",
      " dense_10 (Dense)            (None, 512)               262656    \n",
      "                                                                 \n",
      " dropout_7 (Dropout)         (None, 512)               0         \n",
      "                                                                 \n",
      " dense_11 (Dense)            (None, 10)                5130      \n",
      "                                                                 \n",
      "=================================================================\n",
      "Total params: 669,706\n",
      "Trainable params: 669,706\n",
      "Non-trainable params: 0\n",
      "_________________________________________________________________\n",
      "Epoch 1/20\n",
      "469/469 [==============================] - 5s 10ms/step - loss: 0.5516 - accuracy: 0.8196 - val_loss: 0.3289 - val_accuracy: 0.8934\n",
      "Epoch 2/20\n",
      "469/469 [==============================] - 4s 9ms/step - loss: 0.2392 - accuracy: 0.9244 - val_loss: 0.2848 - val_accuracy: 0.9111\n",
      "Epoch 3/20\n",
      "469/469 [==============================] - 5s 11ms/step - loss: 0.1278 - accuracy: 0.9571 - val_loss: 0.3491 - val_accuracy: 0.9056\n",
      "Epoch 4/20\n",
      "469/469 [==============================] - 6s 12ms/step - loss: 0.0752 - accuracy: 0.9747 - val_loss: 0.3729 - val_accuracy: 0.9128\n",
      "Epoch 5/20\n",
      "469/469 [==============================] - 4s 8ms/step - loss: 0.0529 - accuracy: 0.9821 - val_loss: 0.4371 - val_accuracy: 0.9131\n",
      "Epoch 6/20\n",
      "469/469 [==============================] - 6s 12ms/step - loss: 0.0421 - accuracy: 0.9863 - val_loss: 0.4951 - val_accuracy: 0.9138\n",
      "Epoch 7/20\n",
      "469/469 [==============================] - 5s 10ms/step - loss: 0.0359 - accuracy: 0.9879 - val_loss: 0.5497 - val_accuracy: 0.9113\n",
      "Epoch 8/20\n",
      "469/469 [==============================] - 5s 10ms/step - loss: 0.0362 - accuracy: 0.9889 - val_loss: 0.5476 - val_accuracy: 0.9127\n",
      "Epoch 9/20\n",
      "469/469 [==============================] - 5s 11ms/step - loss: 0.0297 - accuracy: 0.9906 - val_loss: 0.5836 - val_accuracy: 0.9135\n",
      "Epoch 10/20\n",
      "469/469 [==============================] - 5s 11ms/step - loss: 0.0294 - accuracy: 0.9911 - val_loss: 0.5897 - val_accuracy: 0.9128\n",
      "Epoch 11/20\n",
      "469/469 [==============================] - 5s 11ms/step - loss: 0.0243 - accuracy: 0.9925 - val_loss: 0.6527 - val_accuracy: 0.9130\n",
      "Epoch 12/20\n",
      "469/469 [==============================] - 5s 11ms/step - loss: 0.0237 - accuracy: 0.9927 - val_loss: 0.6983 - val_accuracy: 0.9128\n",
      "Epoch 13/20\n",
      "469/469 [==============================] - 7s 15ms/step - loss: 0.0240 - accuracy: 0.9931 - val_loss: 0.7062 - val_accuracy: 0.9136\n",
      "Epoch 14/20\n",
      "469/469 [==============================] - 14s 29ms/step - loss: 0.0249 - accuracy: 0.9928 - val_loss: 0.7523 - val_accuracy: 0.9118\n",
      "Epoch 15/20\n",
      "469/469 [==============================] - 11s 23ms/step - loss: 0.0229 - accuracy: 0.9933 - val_loss: 0.7364 - val_accuracy: 0.9123\n",
      "Epoch 16/20\n",
      "469/469 [==============================] - 9s 20ms/step - loss: 0.0211 - accuracy: 0.9938 - val_loss: 0.7521 - val_accuracy: 0.9146\n",
      "Epoch 17/20\n",
      "469/469 [==============================] - 7s 15ms/step - loss: 0.0226 - accuracy: 0.9938 - val_loss: 0.8057 - val_accuracy: 0.9152\n",
      "Epoch 18/20\n",
      "469/469 [==============================] - 8s 16ms/step - loss: 0.0198 - accuracy: 0.9947 - val_loss: 0.8006 - val_accuracy: 0.9150\n",
      "Epoch 19/20\n",
      "469/469 [==============================] - 8s 17ms/step - loss: 0.0187 - accuracy: 0.9949 - val_loss: 0.8316 - val_accuracy: 0.9124\n",
      "Epoch 20/20\n",
      "469/469 [==============================] - 6s 13ms/step - loss: 0.0201 - accuracy: 0.9948 - val_loss: 0.8117 - val_accuracy: 0.9153\n",
      "Model: \"sequential_4\"\n",
      "_________________________________________________________________\n",
      " Layer (type)                Output Shape              Param #   \n",
      "=================================================================\n",
      " dense_12 (Dense)            (None, 512)               401920    \n",
      "                                                                 \n"
     ]
    },
    {
     "name": "stdout",
     "output_type": "stream",
     "text": [
      " dropout_8 (Dropout)         (None, 512)               0         \n",
      "                                                                 \n",
      " dense_13 (Dense)            (None, 512)               262656    \n",
      "                                                                 \n",
      " dropout_9 (Dropout)         (None, 512)               0         \n",
      "                                                                 \n",
      " dense_14 (Dense)            (None, 10)                5130      \n",
      "                                                                 \n",
      "=================================================================\n",
      "Total params: 669,706\n",
      "Trainable params: 669,706\n",
      "Non-trainable params: 0\n",
      "_________________________________________________________________\n",
      "Epoch 1/20\n",
      "469/469 [==============================] - 6s 12ms/step - loss: 1.0889 - accuracy: 0.6309 - val_loss: 0.8081 - val_accuracy: 0.7238\n",
      "Epoch 2/20\n",
      "469/469 [==============================] - 5s 10ms/step - loss: 0.6682 - accuracy: 0.7759 - val_loss: 0.7316 - val_accuracy: 0.7576\n",
      "Epoch 3/20\n",
      "469/469 [==============================] - 4s 9ms/step - loss: 0.4568 - accuracy: 0.8457 - val_loss: 0.7795 - val_accuracy: 0.7534\n",
      "Epoch 4/20\n",
      "469/469 [==============================] - 4s 8ms/step - loss: 0.3101 - accuracy: 0.8935 - val_loss: 0.8873 - val_accuracy: 0.7527\n",
      "Epoch 5/20\n",
      "469/469 [==============================] - 4s 8ms/step - loss: 0.2219 - accuracy: 0.9240 - val_loss: 1.0033 - val_accuracy: 0.7506\n",
      "Epoch 6/20\n",
      "469/469 [==============================] - 4s 8ms/step - loss: 0.1702 - accuracy: 0.9417 - val_loss: 1.1408 - val_accuracy: 0.7503\n",
      "Epoch 7/20\n",
      "469/469 [==============================] - 4s 8ms/step - loss: 0.1478 - accuracy: 0.9490 - val_loss: 1.2473 - val_accuracy: 0.7503\n",
      "Epoch 8/20\n",
      "469/469 [==============================] - 5s 11ms/step - loss: 0.1307 - accuracy: 0.9568 - val_loss: 1.3425 - val_accuracy: 0.7474\n",
      "Epoch 9/20\n",
      "469/469 [==============================] - 5s 11ms/step - loss: 0.1232 - accuracy: 0.9604 - val_loss: 1.3551 - val_accuracy: 0.7468\n",
      "Epoch 10/20\n",
      "469/469 [==============================] - 6s 13ms/step - loss: 0.1108 - accuracy: 0.9638 - val_loss: 1.4482 - val_accuracy: 0.7518\n",
      "Epoch 11/20\n",
      "469/469 [==============================] - 5s 11ms/step - loss: 0.1036 - accuracy: 0.9658 - val_loss: 1.5443 - val_accuracy: 0.7456\n",
      "Epoch 12/20\n",
      "469/469 [==============================] - 5s 11ms/step - loss: 0.0999 - accuracy: 0.9690 - val_loss: 1.6301 - val_accuracy: 0.7454\n",
      "Epoch 13/20\n",
      "469/469 [==============================] - 4s 9ms/step - loss: 0.0949 - accuracy: 0.9701 - val_loss: 1.6951 - val_accuracy: 0.7464\n",
      "Epoch 14/20\n",
      "469/469 [==============================] - 4s 9ms/step - loss: 0.0877 - accuracy: 0.9728 - val_loss: 1.7667 - val_accuracy: 0.7483\n",
      "Epoch 15/20\n",
      "469/469 [==============================] - 5s 11ms/step - loss: 0.0893 - accuracy: 0.9733 - val_loss: 1.8747 - val_accuracy: 0.7480\n",
      "Epoch 16/20\n",
      "469/469 [==============================] - 5s 11ms/step - loss: 0.0864 - accuracy: 0.9738 - val_loss: 1.9314 - val_accuracy: 0.7458\n",
      "Epoch 17/20\n",
      "469/469 [==============================] - 6s 12ms/step - loss: 0.0879 - accuracy: 0.9742 - val_loss: 1.8494 - val_accuracy: 0.7513\n",
      "Epoch 18/20\n",
      "469/469 [==============================] - 5s 11ms/step - loss: 0.0793 - accuracy: 0.9766 - val_loss: 1.9505 - val_accuracy: 0.7478\n",
      "Epoch 19/20\n",
      "469/469 [==============================] - 4s 9ms/step - loss: 0.0765 - accuracy: 0.9775 - val_loss: 2.0333 - val_accuracy: 0.7473\n",
      "Epoch 20/20\n",
      "469/469 [==============================] - 5s 11ms/step - loss: 0.0761 - accuracy: 0.9778 - val_loss: 2.1127 - val_accuracy: 0.7462\n",
      "Model: \"sequential_5\"\n",
      "_________________________________________________________________\n",
      " Layer (type)                Output Shape              Param #   \n",
      "=================================================================\n",
      " dense_15 (Dense)            (None, 512)               401920    \n",
      "                                                                 \n",
      " dropout_10 (Dropout)        (None, 512)               0         \n",
      "                                                                 \n",
      " dense_16 (Dense)            (None, 512)               262656    \n",
      "                                                                 \n",
      " dropout_11 (Dropout)        (None, 512)               0         \n",
      "                                                                 \n",
      " dense_17 (Dense)            (None, 10)                5130      \n",
      "                                                                 \n",
      "=================================================================\n",
      "Total params: 669,706\n",
      "Trainable params: 669,706\n",
      "Non-trainable params: 0\n",
      "_________________________________________________________________\n",
      "Epoch 1/20\n",
      "469/469 [==============================] - 6s 11ms/step - loss: 1.8855 - accuracy: 0.3529 - val_loss: 1.5938 - val_accuracy: 0.4477\n",
      "Epoch 2/20\n",
      "469/469 [==============================] - 5s 10ms/step - loss: 1.4692 - accuracy: 0.4956 - val_loss: 1.5843 - val_accuracy: 0.4532\n",
      "Epoch 3/20\n",
      "469/469 [==============================] - 5s 11ms/step - loss: 1.2624 - accuracy: 0.5649 - val_loss: 1.6326 - val_accuracy: 0.4448\n",
      "Epoch 4/20\n",
      "469/469 [==============================] - 4s 9ms/step - loss: 1.0733 - accuracy: 0.6258 - val_loss: 1.7128 - val_accuracy: 0.4380\n",
      "Epoch 5/20\n",
      "469/469 [==============================] - 4s 9ms/step - loss: 0.9115 - accuracy: 0.6838 - val_loss: 1.7712 - val_accuracy: 0.4324\n",
      "Epoch 6/20\n",
      "469/469 [==============================] - 4s 9ms/step - loss: 0.7843 - accuracy: 0.7276 - val_loss: 1.9248 - val_accuracy: 0.4230\n",
      "Epoch 7/20\n",
      "469/469 [==============================] - 5s 11ms/step - loss: 0.6849 - accuracy: 0.7623 - val_loss: 2.0531 - val_accuracy: 0.4179\n",
      "Epoch 8/20\n",
      "469/469 [==============================] - 8s 16ms/step - loss: 0.6152 - accuracy: 0.7878 - val_loss: 2.1320 - val_accuracy: 0.4139\n",
      "Epoch 9/20\n",
      "469/469 [==============================] - 5s 10ms/step - loss: 0.5589 - accuracy: 0.8062 - val_loss: 2.2979 - val_accuracy: 0.4156\n",
      "Epoch 10/20\n",
      "469/469 [==============================] - 4s 8ms/step - loss: 0.5122 - accuracy: 0.8229 - val_loss: 2.4044 - val_accuracy: 0.4150\n",
      "Epoch 11/20\n",
      "469/469 [==============================] - 4s 8ms/step - loss: 0.4769 - accuracy: 0.8388 - val_loss: 2.5550 - val_accuracy: 0.4075\n",
      "Epoch 12/20\n",
      "469/469 [==============================] - 4s 8ms/step - loss: 0.4521 - accuracy: 0.8474 - val_loss: 2.5927 - val_accuracy: 0.4148\n",
      "Epoch 13/20\n",
      "469/469 [==============================] - 4s 9ms/step - loss: 0.4360 - accuracy: 0.8533 - val_loss: 2.7081 - val_accuracy: 0.4141\n",
      "Epoch 14/20\n",
      "469/469 [==============================] - 4s 8ms/step - loss: 0.4108 - accuracy: 0.8626 - val_loss: 2.7632 - val_accuracy: 0.4050\n",
      "Epoch 15/20\n",
      "469/469 [==============================] - 4s 9ms/step - loss: 0.4037 - accuracy: 0.8681 - val_loss: 2.8586 - val_accuracy: 0.4085\n",
      "Epoch 16/20\n",
      "469/469 [==============================] - 4s 8ms/step - loss: 0.3856 - accuracy: 0.8730 - val_loss: 2.9991 - val_accuracy: 0.4039\n",
      "Epoch 17/20\n",
      "469/469 [==============================] - 4s 8ms/step - loss: 0.3749 - accuracy: 0.8783 - val_loss: 3.0624 - val_accuracy: 0.4050\n",
      "Epoch 18/20\n",
      "469/469 [==============================] - 4s 9ms/step - loss: 0.3567 - accuracy: 0.8840 - val_loss: 3.0754 - val_accuracy: 0.4024\n",
      "Epoch 19/20\n",
      "469/469 [==============================] - 4s 8ms/step - loss: 0.3478 - accuracy: 0.8868 - val_loss: 3.2499 - val_accuracy: 0.4022\n",
      "Epoch 20/20\n",
      "469/469 [==============================] - 4s 9ms/step - loss: 0.3467 - accuracy: 0.8898 - val_loss: 3.3455 - val_accuracy: 0.4042\n",
      "Model: \"sequential_6\"\n",
      "_________________________________________________________________\n",
      " Layer (type)                Output Shape              Param #   \n",
      "=================================================================\n",
      " dense_18 (Dense)            (None, 512)               401920    \n",
      "                                                                 \n",
      " dropout_12 (Dropout)        (None, 512)               0         \n",
      "                                                                 \n",
      " dense_19 (Dense)            (None, 512)               262656    \n",
      "                                                                 \n",
      " dropout_13 (Dropout)        (None, 512)               0         \n"
     ]
    },
    {
     "name": "stdout",
     "output_type": "stream",
     "text": [
      "                                                                 \n",
      " dense_20 (Dense)            (None, 10)                5130      \n",
      "                                                                 \n",
      "=================================================================\n",
      "Total params: 669,706\n",
      "Trainable params: 669,706\n",
      "Non-trainable params: 0\n",
      "_________________________________________________________________\n",
      "Epoch 1/20\n",
      "469/469 [==============================] - 5s 9ms/step - loss: 2.4451 - accuracy: 0.1523 - val_loss: 2.1501 - val_accuracy: 0.2169\n",
      "Epoch 2/20\n",
      "469/469 [==============================] - 4s 8ms/step - loss: 2.0861 - accuracy: 0.2538 - val_loss: 2.1274 - val_accuracy: 0.2345\n",
      "Epoch 3/20\n",
      "469/469 [==============================] - 5s 10ms/step - loss: 1.9492 - accuracy: 0.3106 - val_loss: 2.1518 - val_accuracy: 0.2292\n",
      "Epoch 4/20\n",
      "469/469 [==============================] - 4s 9ms/step - loss: 1.8305 - accuracy: 0.3518 - val_loss: 2.1718 - val_accuracy: 0.2248\n",
      "Epoch 5/20\n",
      "469/469 [==============================] - 4s 8ms/step - loss: 1.7150 - accuracy: 0.3955 - val_loss: 2.2199 - val_accuracy: 0.2208\n",
      "Epoch 6/20\n",
      "469/469 [==============================] - 4s 8ms/step - loss: 1.6136 - accuracy: 0.4331 - val_loss: 2.2733 - val_accuracy: 0.2143\n",
      "Epoch 7/20\n",
      "469/469 [==============================] - 4s 9ms/step - loss: 1.5215 - accuracy: 0.4679 - val_loss: 2.3328 - val_accuracy: 0.2130\n",
      "Epoch 8/20\n",
      "469/469 [==============================] - 4s 8ms/step - loss: 1.4487 - accuracy: 0.4939 - val_loss: 2.3707 - val_accuracy: 0.2131\n",
      "Epoch 9/20\n",
      "469/469 [==============================] - 5s 10ms/step - loss: 1.3751 - accuracy: 0.5223 - val_loss: 2.4453 - val_accuracy: 0.2052\n",
      "Epoch 10/20\n",
      "469/469 [==============================] - 6s 12ms/step - loss: 1.3171 - accuracy: 0.5436 - val_loss: 2.5162 - val_accuracy: 0.2031\n",
      "Epoch 11/20\n",
      "469/469 [==============================] - 6s 14ms/step - loss: 1.2628 - accuracy: 0.5644 - val_loss: 2.5493 - val_accuracy: 0.1989\n",
      "Epoch 12/20\n",
      "469/469 [==============================] - 4s 9ms/step - loss: 1.2152 - accuracy: 0.5813 - val_loss: 2.6119 - val_accuracy: 0.1994\n",
      "Epoch 13/20\n",
      "469/469 [==============================] - 4s 8ms/step - loss: 1.1792 - accuracy: 0.5967 - val_loss: 2.7296 - val_accuracy: 0.1901\n",
      "Epoch 14/20\n",
      "469/469 [==============================] - 4s 8ms/step - loss: 1.1419 - accuracy: 0.6128 - val_loss: 2.6786 - val_accuracy: 0.1893\n",
      "Epoch 15/20\n",
      "469/469 [==============================] - 4s 8ms/step - loss: 1.1138 - accuracy: 0.6203 - val_loss: 2.7565 - val_accuracy: 0.1898\n",
      "Epoch 16/20\n",
      "469/469 [==============================] - 5s 10ms/step - loss: 1.0759 - accuracy: 0.6361 - val_loss: 2.8144 - val_accuracy: 0.1885\n",
      "Epoch 17/20\n",
      "469/469 [==============================] - 4s 7ms/step - loss: 1.0512 - accuracy: 0.6449 - val_loss: 2.8721 - val_accuracy: 0.1966\n",
      "Epoch 18/20\n",
      "469/469 [==============================] - 4s 9ms/step - loss: 1.0373 - accuracy: 0.6536 - val_loss: 2.9269 - val_accuracy: 0.1931\n",
      "Epoch 19/20\n",
      "469/469 [==============================] - 5s 11ms/step - loss: 1.0083 - accuracy: 0.6633 - val_loss: 2.9705 - val_accuracy: 0.1901\n",
      "Epoch 20/20\n",
      "469/469 [==============================] - 5s 10ms/step - loss: 0.9960 - accuracy: 0.6702 - val_loss: 2.9860 - val_accuracy: 0.1860\n"
     ]
    },
    {
     "data": {
      "text/plain": [
       "Text(0.5, 1.0, 'Test Set Accuracy Values vs Epochs by Noise Scale Value')"
      ]
     },
     "execution_count": 7,
     "metadata": {},
     "output_type": "execute_result"
    },
    {
     "data": {
      "image/png": "[encoded data removed]",
      "text/plain": [
       "<Figure size 432x288 with 1 Axes>"
      ]
     },
     "metadata": {
      "needs_background": "light"
     },
     "output_type": "display_data"
    },
    {
     "data": {
      "image/png": "[encoded data removed]",
      "text/plain": [
       "<Figure size 432x288 with 1 Axes>"
      ]
     },
     "metadata": {
      "needs_background": "light"
     },
     "output_type": "display_data"
    }
   ],
   "source": [
    "scales = [.1, .5, 1.0, 2.0, 4.0]\n",
    "scores = []\n",
    "scores_test = []\n",
    "scale_nums = []\n",
    "\n",
    "for n in scales:\n",
    "    # the data, shuffled and split between train and test sets\n",
    "    (x_train, y_train), (x_test, y_test) = mnist.load_data()\n",
    "\n",
    "    x_train = x_train.reshape(60000, 784)\n",
    "    x_test = x_test.reshape(10000, 784)\n",
    "    x_train = x_train.astype('float32')\n",
    "    x_test = x_test.astype('float32')\n",
    "    x_train /= 255\n",
    "    x_test /= 255\n",
    "    x_train = np.random.normal(x_train, scale = n)\n",
    "    x_test = np.random.normal(x_test, scale = n)\n",
    "    \n",
    "    batch_size = 128\n",
    "    num_classes = 10\n",
    "    epochs = 20\n",
    "    \n",
    "    # convert class vectors to binary class matrices\n",
    "    y_train = keras.utils.to_categorical(y_train, num_classes)\n",
    "    y_test = keras.utils.to_categorical(y_test, num_classes)\n",
    "    \n",
    "    model = Sequential()\n",
    "    model.add(Dense(512, activation='relu', input_shape=(784,)))\n",
    "    model.add(Dropout(0.2))\n",
    "    model.add(Dense(512, activation='relu'))\n",
    "    model.add(Dropout(0.2))\n",
    "    model.add(Dense(10, activation='softmax'))\n",
    "    \n",
    "    model.summary()\n",
    "    \n",
    "    model.compile(loss='categorical_crossentropy',\n",
    "              optimizer=RMSprop(),\n",
    "              metrics=['accuracy'])\n",
    "    \n",
    "    history_test = model.fit(x_train, y_train,\n",
    "                    batch_size=batch_size,\n",
    "                    epochs=epochs,\n",
    "                    verbose=1,\n",
    "                    validation_data=(x_test, y_test))\n",
    "    \n",
    "    score = model.evaluate(x_test, y_test, verbose=0)\n",
    "\n",
    "       # evaluate the model\n",
    "    accuracy = history_test.history[\"accuracy\"]\n",
    "    accuracy_test = history_test.history[\"val_accuracy\"]\n",
    "    scores.append(accuracy)\n",
    "    scores_test.append(accuracy_test)\n",
    "    scale_num = n\n",
    "    scale_nums.append(scale_num)\n",
    "    epoch_num = list(range(1, len(scores[0])+1))\n",
    "\n",
    "# plot scores\n",
    "plot = plt.figure()\n",
    "\n",
    "for i in range(len(scores)):\n",
    "    plt.plot(epoch_num, scores[i], label = scale_nums[i])\n",
    "plt.legend(title = \"Scale\", loc = 'upper right')\n",
    "plt.xlabel(\"Epochs\")\n",
    "plt.ylabel(\"Accuracy\")\n",
    "plt.title(\"Training Set Accuracys Value vs Epochs by Noise Scale Value\")\n",
    "\n",
    "plot_test = plt.figure()\n",
    "\n",
    "for k in range(len(scores_test)):\n",
    "    plt.plot(epoch_num, scores_test[k], label = scale_nums[k])\n",
    "plt.legend(title = \"Scale\", loc = 'upper right')\n",
    "plt.xlabel(\"Epochs\")\n",
    "plt.ylabel(\"Accuracy\")\n",
    "plt.title(\"Test Set Accuracy Values vs Epochs by Noise Scale Value\")"
   ]
  },
  {
   "cell_type": "code",
   "execution_count": 14,
   "metadata": {},
   "outputs": [
    {
     "data": {
      "text/plain": [
       "<matplotlib.image.AxesImage at 0x7f86c8279c10>"
      ]
     },
     "execution_count": 14,
     "metadata": {},
     "output_type": "execute_result"
    },
    {
     "data": {
      "image/png": "[encoded data removed]",
      "text/plain": [
       "<Figure size 432x288 with 1 Axes>"
      ]
     },
     "metadata": {
      "needs_background": "light"
     },
     "output_type": "display_data"
    }
   ],
   "source": [
    "plt.imshow(x_test[2].reshape(28,28))"
   ]
  }
 ],
 "metadata": {
  "kernelspec": {
   "display_name": "Python 3 (ipykernel)",
   "language": "python",
   "name": "python3"
  },
  "language_info": {
   "codemirror_mode": {
    "name": "ipython",
    "version": 3
   },
   "file_extension": ".py",
   "mimetype": "text/x-python",
   "name": "python",
   "nbconvert_exporter": "python",
   "pygments_lexer": "ipython3",
   "version": "3.9.12"
  }
 },
 "nbformat": 4,
 "nbformat_minor": 2
}
