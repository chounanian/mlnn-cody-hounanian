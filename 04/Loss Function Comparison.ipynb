{
 "cells": [
  {
   "cell_type": "code",
   "execution_count": 6,
   "metadata": {},
   "outputs": [
    {
     "name": "stdout",
     "output_type": "stream",
     "text": [
      "Requirement already satisfied: scikit-learn in /Users/cody/opt/anaconda3/lib/python3.9/site-packages (1.0.2)\n",
      "Requirement already satisfied: numpy>=1.14.6 in /Users/cody/opt/anaconda3/lib/python3.9/site-packages (from scikit-learn) (1.21.5)\n",
      "Requirement already satisfied: threadpoolctl>=2.0.0 in /Users/cody/opt/anaconda3/lib/python3.9/site-packages (from scikit-learn) (2.2.0)\n",
      "Requirement already satisfied: scipy>=1.1.0 in /Users/cody/opt/anaconda3/lib/python3.9/site-packages (from scikit-learn) (1.7.3)\n",
      "Requirement already satisfied: joblib>=0.11 in /Users/cody/opt/anaconda3/lib/python3.9/site-packages (from scikit-learn) (1.1.0)\n"
     ]
    }
   ],
   "source": [
    "!pip install scikit-learn"
   ]
  },
  {
   "cell_type": "code",
   "execution_count": 3,
   "metadata": {},
   "outputs": [],
   "source": [
    "import numpy as np\n",
    "import matplotlib.pylab as plt\n",
    "%matplotlib inline\n",
    "from sklearn import linear_model"
   ]
  },
  {
   "cell_type": "code",
   "execution_count": 4,
   "metadata": {},
   "outputs": [
    {
     "data": {
      "text/plain": [
       "array([[0.01      ],\n",
       "       [0.03020408],\n",
       "       [0.05040816],\n",
       "       [0.07061224],\n",
       "       [0.09081633],\n",
       "       [0.11102041],\n",
       "       [0.13122449],\n",
       "       [0.15142857],\n",
       "       [0.17163265],\n",
       "       [0.19183673],\n",
       "       [0.21204082],\n",
       "       [0.2322449 ],\n",
       "       [0.25244898],\n",
       "       [0.27265306],\n",
       "       [0.29285714],\n",
       "       [0.31306122],\n",
       "       [0.33326531],\n",
       "       [0.35346939],\n",
       "       [0.37367347],\n",
       "       [0.39387755],\n",
       "       [0.41408163],\n",
       "       [0.43428571],\n",
       "       [0.4544898 ],\n",
       "       [0.47469388],\n",
       "       [0.49489796],\n",
       "       [0.51510204],\n",
       "       [0.53530612],\n",
       "       [0.5555102 ],\n",
       "       [0.57571429],\n",
       "       [0.59591837],\n",
       "       [0.61612245],\n",
       "       [0.63632653],\n",
       "       [0.65653061],\n",
       "       [0.67673469],\n",
       "       [0.69693878],\n",
       "       [0.71714286],\n",
       "       [0.73734694],\n",
       "       [0.75755102],\n",
       "       [0.7777551 ],\n",
       "       [0.79795918],\n",
       "       [0.81816327],\n",
       "       [0.83836735],\n",
       "       [0.85857143],\n",
       "       [0.87877551],\n",
       "       [0.89897959],\n",
       "       [0.91918367],\n",
       "       [0.93938776],\n",
       "       [0.95959184],\n",
       "       [0.97979592],\n",
       "       [1.        ]])"
      ]
     },
     "execution_count": 4,
     "metadata": {},
     "output_type": "execute_result"
    }
   ],
   "source": [
    "n = 50\n",
    "x = np.linspace(0.01, 1, n).reshape(-1, 1)\n",
    "y = np.linspace(0.01, 3, n) * np.linspace(0.01, 3, n) + np.random.rand(n) - .5\n",
    "\n",
    "\n",
    "plt.scatter(x,y)"
   ]
  },
  {
   "cell_type": "markdown",
   "metadata": {},
   "source": [
    "## Linear Regression - no regularization"
   ]
  },
  {
   "cell_type": "code",
   "execution_count": 10,
   "metadata": {},
   "outputs": [
    {
     "data": {
      "text/plain": [
       "(array([8.85425019]), -1.5124671834995915)"
      ]
     },
     "execution_count": 10,
     "metadata": {},
     "output_type": "execute_result"
    }
   ],
   "source": [
    "linear = linear_model.LinearRegression()\n",
    "\n",
    "linear.fit(x, y)\n",
    "\n",
    "linear.coef_, linear.intercept_"
   ]
  },
  {
   "cell_type": "markdown",
   "metadata": {},
   "source": [
    "## Linear \"Ridge\" Regression - L2 regularization"
   ]
  },
  {
   "cell_type": "code",
   "execution_count": 11,
   "metadata": {},
   "outputs": [
    {
     "data": {
      "text/plain": [
       "(array([7.92230894]), -1.0418368522931027)"
      ]
     },
     "execution_count": 11,
     "metadata": {},
     "output_type": "execute_result"
    }
   ],
   "source": [
    "ridge = linear_model.Ridge(alpha=.5)\n",
    "\n",
    "ridge.fit(x, y)\n",
    "\n",
    "ridge.coef_, ridge.intercept_"
   ]
  },
  {
   "cell_type": "code",
   "execution_count": 12,
   "metadata": {},
   "outputs": [
    {
     "data": {
      "text/plain": [
       "[<matplotlib.lines.Line2D at 0x7f9a89bec1f0>]"
      ]
     },
     "execution_count": 12,
     "metadata": {},
     "output_type": "execute_result"
    },
    {
     "data": {
      "image/png": "[encoded data removed]",
      "text/plain": [
       "<Figure size 432x288 with 1 Axes>"
      ]
     },
     "metadata": {
      "needs_background": "light"
     },
     "output_type": "display_data"
    }
   ],
   "source": [
    "plt.scatter(x,y)\n",
    "plt.plot(x, x*linear.coef_ + linear.intercept_, c='b')\n",
    "plt.plot(x, x*ridge.coef_ + ridge.intercept_, c='r')"
   ]
  },
  {
   "cell_type": "markdown",
   "metadata": {},
   "source": [
    "Clearly Linear 1 degree (y = m x) don't fix very well"
   ]
  },
  {
   "cell_type": "markdown",
   "metadata": {},
   "source": [
    "## Let's try $x^{15}$ polynomial!"
   ]
  },
  {
   "cell_type": "code",
   "execution_count": 17,
   "metadata": {},
   "outputs": [],
   "source": [
    "from sklearn.preprocessing import PolynomialFeatures\n",
    "\n",
    "poly = PolynomialFeatures(degree=15)\n",
    "\n",
    "x_15 = poly.fit_transform(x.reshape(-1, 1))"
   ]
  },
  {
   "cell_type": "code",
   "execution_count": 18,
   "metadata": {},
   "outputs": [
    {
     "data": {
      "text/plain": [
       "(array([ 0.00000000e+00, -4.95350619e+01,  1.57121525e+03, -2.91068020e+04,\n",
       "         3.53798874e+05, -2.80832513e+06,  1.47274062e+07, -5.21416518e+07,\n",
       "         1.26760981e+08, -2.12629678e+08,  2.42860260e+08, -1.80738556e+08,\n",
       "         7.77169569e+07, -1.13574758e+07, -4.22412666e+06,  1.50800368e+06]),\n",
       " 0.6225131641014734)"
      ]
     },
     "execution_count": 18,
     "metadata": {},
     "output_type": "execute_result"
    }
   ],
   "source": [
    "linear = linear_model.LinearRegression()\n",
    "\n",
    "linear.fit(x_15, y)\n",
    "\n",
    "(linear.coef_, linear.intercept_)"
   ]
  },
  {
   "cell_type": "code",
   "execution_count": 19,
   "metadata": {},
   "outputs": [
    {
     "data": {
      "text/plain": [
       "(array([ 0.        ,  2.32674823,  2.18028318,  1.68276181,  1.22463483,\n",
       "         0.86490735,  0.59370162,  0.39052609,  0.23730618,  0.12036047,\n",
       "         0.02981768, -0.04134182, -0.09810538, -0.14403595, -0.18170115,\n",
       "        -0.21297087]),\n",
       " 0.06906488537579047)"
      ]
     },
     "execution_count": 19,
     "metadata": {},
     "output_type": "execute_result"
    }
   ],
   "source": [
    "ridge = linear_model.Ridge()\n",
    "\n",
    "ridge.fit(x_15, y)\n",
    "\n",
    "(ridge.coef_, ridge.intercept_)"
   ]
  },
  {
   "cell_type": "code",
   "execution_count": 20,
   "metadata": {},
   "outputs": [
    {
     "data": {
      "text/plain": [
       "[<matplotlib.lines.Line2D at 0x7f9a89d1a310>]"
      ]
     },
     "execution_count": 20,
     "metadata": {},
     "output_type": "execute_result"
    },
    {
     "data": {
      "image/png": "[encoded data removed]",
      "text/plain": [
       "<Figure size 432x288 with 1 Axes>"
      ]
     },
     "metadata": {
      "needs_background": "light"
     },
     "output_type": "display_data"
    }
   ],
   "source": [
    "plt.scatter(x,y)\n",
    "plt.plot(x, np.dot(x_15, linear.coef_) + linear.intercept_, c='b')\n",
    "plt.plot(x, np.dot(x_15, ridge.coef_) + ridge.intercept_, c='r')"
   ]
  },
  {
   "cell_type": "markdown",
   "metadata": {},
   "source": [
    "We can see that the non-ridge model fits points very well. But how does it fare for new points?"
   ]
  },
  {
   "cell_type": "code",
   "execution_count": 21,
   "metadata": {},
   "outputs": [
    {
     "data": {
      "text/plain": [
       "[<matplotlib.lines.Line2D at 0x7f9a8a324430>]"
      ]
     },
     "execution_count": 21,
     "metadata": {},
     "output_type": "execute_result"
    },
    {
     "data": {
      "image/png": "[encoded data removed]",
      "text/plain": [
       "<Figure size 432x288 with 1 Axes>"
      ]
     },
     "metadata": {
      "needs_background": "light"
     },
     "output_type": "display_data"
    }
   ],
   "source": [
    "m = 4\n",
    "x_final = 1.02\n",
    "x2 = np.concatenate([x, np.linspace(1, x_final, m).reshape(-1, 1)])\n",
    "x_15 = poly.fit_transform(x2)\n",
    "y2 = np.concatenate([y, np.linspace(3, 3*x_final, m) * np.linspace(3, 3*x_final, m) + np.random.rand(m) - .5])\n",
    "\n",
    "plt.scatter(x2,y2)\n",
    "plt.plot(x2, np.dot(x_15, linear.coef_) + linear.intercept_, c='b')\n",
    "plt.plot(x2, np.dot(x_15, ridge.coef_) + ridge.intercept_, c='r')"
   ]
  },
  {
   "cell_type": "markdown",
   "metadata": {},
   "source": [
    "Clearly, the new predictions are not so great."
   ]
  },
  {
   "cell_type": "code",
   "execution_count": 22,
   "metadata": {},
   "outputs": [
    {
     "data": {
      "text/plain": [
       "[<matplotlib.lines.Line2D at 0x7f9a8a38f040>]"
      ]
     },
     "execution_count": 22,
     "metadata": {},
     "output_type": "execute_result"
    },
    {
     "data": {
      "image/png": "[encoded data removed]",
      "text/plain": [
       "<Figure size 432x288 with 1 Axes>"
      ]
     },
     "metadata": {
      "needs_background": "light"
     },
     "output_type": "display_data"
    }
   ],
   "source": [
    "m = 4\n",
    "x_final = 1.1\n",
    "x2 = np.concatenate([x, np.linspace(1, x_final, m).reshape(-1, 1)])\n",
    "x_15 = poly.fit_transform(x2)\n",
    "y2 = np.concatenate([y, np.linspace(3, 3*x_final, m) * np.linspace(3, 3*x_final, m) + np.random.rand(m) - .5])\n",
    "\n",
    "\n",
    "plt.scatter(x2,y2)\n",
    "# plt.plot(x2, np.dot(x_15, linear.coef_) + linear.intercept_, c='b')\n",
    "plt.plot(x2, np.dot(x_15, ridge.coef_) + ridge.intercept_, c='r')"
   ]
  },
  {
   "cell_type": "markdown",
   "metadata": {},
   "source": [
    "The Ridge model fares better for new values. "
   ]
  },
  {
   "cell_type": "code",
   "execution_count": 23,
   "metadata": {},
   "outputs": [
    {
     "data": {
      "text/plain": [
       "[<matplotlib.lines.Line2D at 0x7f9a8a4bf8b0>]"
      ]
     },
     "execution_count": 23,
     "metadata": {},
     "output_type": "execute_result"
    },
    {
     "data": {
      "image/png": "[encoded data removed]",
      "text/plain": [
       "<Figure size 432x288 with 1 Axes>"
      ]
     },
     "metadata": {
      "needs_background": "light"
     },
     "output_type": "display_data"
    }
   ],
   "source": [
    "m = 10\n",
    "x_final = 1.2\n",
    "x2 = np.concatenate([x, np.linspace(1, x_final, m).reshape(-1, 1)])\n",
    "x_15 = poly.fit_transform(x2)\n",
    "y2 = np.concatenate([y, np.linspace(3, 3*x_final, m) * np.linspace(3, 3*x_final, m) + np.random.rand(m) - .5])\n",
    "\n",
    "\n",
    "plt.scatter(x2,y2)\n",
    "# plt.plot(x2, np.dot(x_15, linear.coef_) + linear.intercept_, c='b')\n",
    "plt.plot(x2, np.dot(x_15, ridge.coef_) + ridge.intercept_, c='r')"
   ]
  },
  {
   "cell_type": "markdown",
   "metadata": {},
   "source": [
    "But not all new values"
   ]
  },
  {
   "cell_type": "markdown",
   "metadata": {},
   "source": [
    "## Back to $x^2$ degree model "
   ]
  },
  {
   "cell_type": "code",
   "execution_count": 24,
   "metadata": {},
   "outputs": [
    {
     "data": {
      "text/plain": [
       "[<matplotlib.lines.Line2D at 0x7f9a8a5ab430>]"
      ]
     },
     "execution_count": 24,
     "metadata": {},
     "output_type": "execute_result"
    },
    {
     "data": {
      "image/png": "[encoded data removed]",
      "text/plain": [
       "<Figure size 432x288 with 1 Axes>"
      ]
     },
     "metadata": {
      "needs_background": "light"
     },
     "output_type": "display_data"
    }
   ],
   "source": [
    "poly2 = PolynomialFeatures(degree=2)\n",
    "\n",
    "m = 10\n",
    "x_final = 1.2\n",
    "x2 = np.concatenate([x, np.linspace(1, x_final, m).reshape(-1, 1)])\n",
    "x_poly = poly2.fit_transform(x2)\n",
    "\n",
    "y2 = np.concatenate([y, np.linspace(3, 3*x_final, m) * np.linspace(3, 3*x_final, m) + np.random.rand(m) - .5])\n",
    "\n",
    "\n",
    "ridge = linear_model.Ridge()\n",
    "ridge.fit(x_poly, y2)\n",
    "\n",
    "model = linear_model.LinearRegression()\n",
    "model.fit(x_poly, y2)\n",
    "\n",
    "plt.scatter(x2,y2)\n",
    "plt.plot(x2, np.dot(x_poly, ridge.coef_) + ridge.intercept_, c='b')\n",
    "plt.plot(x2, np.dot(x_poly, model.coef_) + model.intercept_, c='r')"
   ]
  }
 ],
 "metadata": {
  "kernelspec": {
   "display_name": "Python 3 (ipykernel)",
   "language": "python",
   "name": "python3"
  },
  "language_info": {
   "codemirror_mode": {
    "name": "ipython",
    "version": 3
   },
   "file_extension": ".py",
   "mimetype": "text/x-python",
   "name": "python",
   "nbconvert_exporter": "python",
   "pygments_lexer": "ipython3",
   "version": "3.9.12"
  }
 },
 "nbformat": 4,
 "nbformat_minor": 1
}
